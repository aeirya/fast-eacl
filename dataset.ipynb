{
 "cells": [
  {
   "cell_type": "code",
   "execution_count": 26,
   "metadata": {},
   "outputs": [],
   "source": [
    "BASE_DIR = '.'\n",
    "DATA_DIR = f'{BASE_DIR}/miniResults'\n",
    "\n",
    "from util import count_files\n",
    "\n",
    "train_text_path = f\"{DATA_DIR}/train_text\"\n",
    "train_time_path = f\"{DATA_DIR}/train_timestamps\"\n",
    "train_price_path = f\"{DATA_DIR}/train_price\"\n",
    "train_mask_path = f\"{DATA_DIR}/train_mask\"\n",
    "train_gt_path = f\"{DATA_DIR}/train_gt\"\n",
    "no_of_train_samples = count_files(train_text_path)\n",
    "\n",
    "val_text_path = f\"{DATA_DIR}/val_text\"\n",
    "val_time_path = f\"{DATA_DIR}/val_timestamps\"\n",
    "val_price_path = f\"{DATA_DIR}/val_price\"\n",
    "val_mask_path = f\"{DATA_DIR}/val_mask\"\n",
    "val_gt_path = f\"{DATA_DIR}/val_gt\"\n",
    "no_of_validation_samples = count_files(val_text_path)\n",
    "\n",
    "test_text_path = f\"{DATA_DIR}/test_text\"\n",
    "test_time_path = f\"{DATA_DIR}/test_timestamps\"\n",
    "test_price_path = f\"{DATA_DIR}/test_price\"\n",
    "test_mask_path = f\"{DATA_DIR}/test_mask\"\n",
    "test_gt_path = f\"{DATA_DIR}/test_gt\"\n",
    "\n",
    "no_of_test_samples = count_files(test_text_path)\n",
    "\n",
    "no_stocks = 2"
   ]
  },
  {
   "cell_type": "code",
   "execution_count": 2,
   "metadata": {},
   "outputs": [],
   "source": [
    "import numpy as np\n",
    "import torch\n",
    "\n",
    "i = 0\n",
    "device = 'mps'\n",
    "train_text = torch.tensor(np.load(train_text_path+str(i).zfill(10)+'.npy'), dtype=torch.float32).to(device)\n",
    "train_timestamps = torch.tensor(np.load(train_time_path+str(i).zfill(10)+'.npy'), dtype=torch.float32).to(device)\n",
    "mask_batch = (np.load(train_mask_path+str(i).zfill(10)+'.npy'))#.to(device)\n",
    "price_batch = (np.load(train_price_path+str(i).zfill(10)+'.npy'))#.to(device)\n",
    "gt_batch = (np.load(train_gt_path+str(i).zfill(10)+'.npy'))#.to(device)"
   ]
  },
  {
   "cell_type": "code",
   "execution_count": 9,
   "metadata": {},
   "outputs": [
    {
     "data": {
      "text/plain": [
       "(array([[0.82422],\n",
       "        [0.67907]]),\n",
       " array([[1.],\n",
       "        [0.]]),\n",
       " array([[0.131],\n",
       "        [0.006]]))"
      ]
     },
     "execution_count": 9,
     "metadata": {},
     "output_type": "execute_result"
    }
   ],
   "source": [
    "price_batch, mask_batch, gt_batch"
   ]
  },
  {
   "cell_type": "code",
   "execution_count": 31,
   "metadata": {},
   "outputs": [
    {
     "ename": "SyntaxError",
     "evalue": "invalid syntax (408050679.py, line 62)",
     "output_type": "error",
     "traceback": [
      "\u001b[0;36m  Cell \u001b[0;32mIn[31], line 62\u001b[0;36m\u001b[0m\n\u001b[0;31m    def\u001b[0m\n\u001b[0m        ^\u001b[0m\n\u001b[0;31mSyntaxError\u001b[0m\u001b[0;31m:\u001b[0m invalid syntax\n"
     ]
    }
   ],
   "source": [
    "from torch.utils.data import Dataset, DataLoader\n",
    "\n",
    "class StockData(Dataset):\n",
    "    def __init__(self, paths, loopback_window=3, mask_threshold=0.5, device='cpu'):\n",
    "        self.mask_threshold = mask_threshold\n",
    "        self.window = loopback_window\n",
    "        self.paths = paths\n",
    "        self.device = device\n",
    "        \n",
    "\n",
    "    # def __len__(self):\n",
    "    #     return len(self.data)\n",
    "\n",
    "    def __getitem__(self, idx):\n",
    "        train_text_path = self.paths['text']\n",
    "        train_time_path = self.paths['time']\n",
    "        train_price_path = self.paths['price']\n",
    "        train_gt_path = self.paths['gt']\n",
    "\n",
    "        train_text, train_timestamps = self._get_days_lookback(idx, self.window)\n",
    "        \n",
    "        price_batch = self._load_np(train_price_path, idx)\n",
    "        gt_batch = self._load_np(train_gt_path, idx)\n",
    "        \n",
    "        mask_batch = self._get_mask_batch(price_batch)\n",
    "\n",
    "        return (\n",
    "            train_text, train_timestamps, price_batch, gt_batch, mask_batch\n",
    "        )    \n",
    "\n",
    "\n",
    "    def _load_np(self, pathdir, i):\n",
    "        return np.load(f\"{pathdir}/{str(i).zfill(10)}.npy\")\n",
    "    \n",
    "    def _load_torchf(self, pathdir, i):\n",
    "        a = self._load_np(pathdir, i)\n",
    "        return torch.tensor(a, dtype=torch.float32).to(self.device)\n",
    "    \n",
    "    def _get_mask_batch(self, price_batch):\n",
    "        price_batch = price_batch.astype(float)\n",
    "        return (price_batch > self.mask_threshold).astype(int)\n",
    "    \n",
    "    def _get_day_texts(self, day_idx):\n",
    "        return self._load_torchf(self.paths['text'], day_idx)\n",
    "    \n",
    "    def _get_day_timestamps(self, day_idx):\n",
    "        return self._load_torchf(self.paths['time'], day_idx)\n",
    "    \n",
    "    def _get_days_lookback(self, day_idx, window):\n",
    "        # get tweets and timestamps in the recent days\n",
    "        texts =  torch.vstack([\n",
    "            self._get_day_texts(day) for day in range(max(0, day_idx-window), day_idx+1)\n",
    "        ])\n",
    "        times =  torch.vstack([\n",
    "            self._get_day_timestamps(day) for day in range(max(0, day_idx-window), day_idx+1)\n",
    "        ])\n",
    "        return texts, times\n",
    "    \n",
    "    def to(self, device):\n",
    "        self.device = device\n"
   ]
  },
  {
   "cell_type": "code",
   "execution_count": null,
   "metadata": {},
   "outputs": [],
   "source": [
    "class AllStocksDataset(Dataset):\n",
    "    def __init__(self, paths, loopback_window=3, mask_threshold=0.5, device='cpu'):\n",
    "        self.mask_threshold = mask_threshold\n",
    "        self.window = loopback_window\n",
    "        self.paths = paths\n",
    "        self.device = device\n",
    "\n",
    "\n",
    "\n",
    "    # def __len__(self):\n",
    "    #     return len(self.data)\n",
    "\n",
    "    def __getitem__(self, stock_idx):"
   ]
  },
  {
   "cell_type": "code",
   "execution_count": 28,
   "metadata": {},
   "outputs": [],
   "source": [
    "\n",
    "paths = {\n",
    "    'text': f'{BASE_DIR}/Train',\n",
    "    'time': train_time_path,\n",
    "    'price': train_price_path,\n",
    "    'gt': train_gt_path,\n",
    "}\n",
    "\n",
    "dataset = CustomDataset(paths, 3, 0.5, 'mps')"
   ]
  },
  {
   "cell_type": "code",
   "execution_count": null,
   "metadata": {},
   "outputs": [],
   "source": []
  },
  {
   "cell_type": "code",
   "execution_count": null,
   "metadata": {},
   "outputs": [],
   "source": []
  },
  {
   "cell_type": "code",
   "execution_count": 29,
   "metadata": {},
   "outputs": [
    {
     "ename": "FileNotFoundError",
     "evalue": "[Errno 2] No such file or directory: './miniResults/train_text/0000000000.npy'",
     "output_type": "error",
     "traceback": [
      "\u001b[0;31m---------------------------------------------------------------------------\u001b[0m",
      "\u001b[0;31mFileNotFoundError\u001b[0m                         Traceback (most recent call last)",
      "Cell \u001b[0;32mIn[29], line 1\u001b[0m\n\u001b[0;32m----> 1\u001b[0m texts, times, _, _, _ \u001b[38;5;241m=\u001b[39m \u001b[43mdataset\u001b[49m\u001b[43m[\u001b[49m\u001b[38;5;241;43m2\u001b[39;49m\u001b[43m]\u001b[49m\n",
      "Cell \u001b[0;32mIn[27], line 20\u001b[0m, in \u001b[0;36mCustomDataset.__getitem__\u001b[0;34m(self, idx)\u001b[0m\n\u001b[1;32m     17\u001b[0m train_price_path \u001b[38;5;241m=\u001b[39m \u001b[38;5;28mself\u001b[39m\u001b[38;5;241m.\u001b[39mpaths[\u001b[38;5;124m'\u001b[39m\u001b[38;5;124mprice\u001b[39m\u001b[38;5;124m'\u001b[39m]\n\u001b[1;32m     18\u001b[0m train_gt_path \u001b[38;5;241m=\u001b[39m \u001b[38;5;28mself\u001b[39m\u001b[38;5;241m.\u001b[39mpaths[\u001b[38;5;124m'\u001b[39m\u001b[38;5;124mgt\u001b[39m\u001b[38;5;124m'\u001b[39m]\n\u001b[0;32m---> 20\u001b[0m train_text, train_timestamps \u001b[38;5;241m=\u001b[39m \u001b[38;5;28;43mself\u001b[39;49m\u001b[38;5;241;43m.\u001b[39;49m\u001b[43m_get_days_lookback\u001b[49m\u001b[43m(\u001b[49m\u001b[43midx\u001b[49m\u001b[43m,\u001b[49m\u001b[43m \u001b[49m\u001b[38;5;28;43mself\u001b[39;49m\u001b[38;5;241;43m.\u001b[39;49m\u001b[43mwindow\u001b[49m\u001b[43m)\u001b[49m\n\u001b[1;32m     22\u001b[0m price_batch \u001b[38;5;241m=\u001b[39m \u001b[38;5;28mself\u001b[39m\u001b[38;5;241m.\u001b[39m_load_np(train_price_path, idx)\n\u001b[1;32m     23\u001b[0m gt_batch \u001b[38;5;241m=\u001b[39m \u001b[38;5;28mself\u001b[39m\u001b[38;5;241m.\u001b[39m_load_np(train_gt_path, idx)\n",
      "Cell \u001b[0;32mIn[27], line 51\u001b[0m, in \u001b[0;36mCustomDataset._get_days_lookback\u001b[0;34m(self, day_idx, window)\u001b[0m\n\u001b[1;32m     49\u001b[0m \u001b[38;5;28;01mdef\u001b[39;00m \u001b[38;5;21m_get_days_lookback\u001b[39m(\u001b[38;5;28mself\u001b[39m, day_idx, window):\n\u001b[1;32m     50\u001b[0m     \u001b[38;5;66;03m# get tweets and timestamps in the recent days\u001b[39;00m\n\u001b[0;32m---> 51\u001b[0m     texts \u001b[38;5;241m=\u001b[39m  torch\u001b[38;5;241m.\u001b[39mvstack([\n\u001b[1;32m     52\u001b[0m         \u001b[38;5;28mself\u001b[39m\u001b[38;5;241m.\u001b[39m_get_day_texts(day) \u001b[38;5;28;01mfor\u001b[39;00m day \u001b[38;5;129;01min\u001b[39;00m \u001b[38;5;28mrange\u001b[39m(\u001b[38;5;28mmax\u001b[39m(\u001b[38;5;241m0\u001b[39m, day_idx\u001b[38;5;241m-\u001b[39mwindow), day_idx\u001b[38;5;241m+\u001b[39m\u001b[38;5;241m1\u001b[39m)\n\u001b[1;32m     53\u001b[0m     ])\n\u001b[1;32m     54\u001b[0m     times \u001b[38;5;241m=\u001b[39m  torch\u001b[38;5;241m.\u001b[39mvstack([\n\u001b[1;32m     55\u001b[0m         \u001b[38;5;28mself\u001b[39m\u001b[38;5;241m.\u001b[39m_get_day_timestamps(day) \u001b[38;5;28;01mfor\u001b[39;00m day \u001b[38;5;129;01min\u001b[39;00m \u001b[38;5;28mrange\u001b[39m(\u001b[38;5;28mmax\u001b[39m(\u001b[38;5;241m0\u001b[39m, day_idx\u001b[38;5;241m-\u001b[39mwindow), day_idx\u001b[38;5;241m+\u001b[39m\u001b[38;5;241m1\u001b[39m)\n\u001b[1;32m     56\u001b[0m     ])\n\u001b[1;32m     57\u001b[0m     \u001b[38;5;28;01mreturn\u001b[39;00m texts, times\n",
      "Cell \u001b[0;32mIn[27], line 52\u001b[0m, in \u001b[0;36m<listcomp>\u001b[0;34m(.0)\u001b[0m\n\u001b[1;32m     49\u001b[0m \u001b[38;5;28;01mdef\u001b[39;00m \u001b[38;5;21m_get_days_lookback\u001b[39m(\u001b[38;5;28mself\u001b[39m, day_idx, window):\n\u001b[1;32m     50\u001b[0m     \u001b[38;5;66;03m# get tweets and timestamps in the recent days\u001b[39;00m\n\u001b[1;32m     51\u001b[0m     texts \u001b[38;5;241m=\u001b[39m  torch\u001b[38;5;241m.\u001b[39mvstack([\n\u001b[0;32m---> 52\u001b[0m         \u001b[38;5;28;43mself\u001b[39;49m\u001b[38;5;241;43m.\u001b[39;49m\u001b[43m_get_day_texts\u001b[49m\u001b[43m(\u001b[49m\u001b[43mday\u001b[49m\u001b[43m)\u001b[49m \u001b[38;5;28;01mfor\u001b[39;00m day \u001b[38;5;129;01min\u001b[39;00m \u001b[38;5;28mrange\u001b[39m(\u001b[38;5;28mmax\u001b[39m(\u001b[38;5;241m0\u001b[39m, day_idx\u001b[38;5;241m-\u001b[39mwindow), day_idx\u001b[38;5;241m+\u001b[39m\u001b[38;5;241m1\u001b[39m)\n\u001b[1;32m     53\u001b[0m     ])\n\u001b[1;32m     54\u001b[0m     times \u001b[38;5;241m=\u001b[39m  torch\u001b[38;5;241m.\u001b[39mvstack([\n\u001b[1;32m     55\u001b[0m         \u001b[38;5;28mself\u001b[39m\u001b[38;5;241m.\u001b[39m_get_day_timestamps(day) \u001b[38;5;28;01mfor\u001b[39;00m day \u001b[38;5;129;01min\u001b[39;00m \u001b[38;5;28mrange\u001b[39m(\u001b[38;5;28mmax\u001b[39m(\u001b[38;5;241m0\u001b[39m, day_idx\u001b[38;5;241m-\u001b[39mwindow), day_idx\u001b[38;5;241m+\u001b[39m\u001b[38;5;241m1\u001b[39m)\n\u001b[1;32m     56\u001b[0m     ])\n\u001b[1;32m     57\u001b[0m     \u001b[38;5;28;01mreturn\u001b[39;00m texts, times\n",
      "Cell \u001b[0;32mIn[27], line 44\u001b[0m, in \u001b[0;36mCustomDataset._get_day_texts\u001b[0;34m(self, day_idx)\u001b[0m\n\u001b[1;32m     43\u001b[0m \u001b[38;5;28;01mdef\u001b[39;00m \u001b[38;5;21m_get_day_texts\u001b[39m(\u001b[38;5;28mself\u001b[39m, day_idx):\n\u001b[0;32m---> 44\u001b[0m     \u001b[38;5;28;01mreturn\u001b[39;00m \u001b[38;5;28;43mself\u001b[39;49m\u001b[38;5;241;43m.\u001b[39;49m\u001b[43m_load_torchf\u001b[49m\u001b[43m(\u001b[49m\u001b[38;5;28;43mself\u001b[39;49m\u001b[38;5;241;43m.\u001b[39;49m\u001b[43mpaths\u001b[49m\u001b[43m[\u001b[49m\u001b[38;5;124;43m'\u001b[39;49m\u001b[38;5;124;43mtext\u001b[39;49m\u001b[38;5;124;43m'\u001b[39;49m\u001b[43m]\u001b[49m\u001b[43m,\u001b[49m\u001b[43m \u001b[49m\u001b[43mday_idx\u001b[49m\u001b[43m)\u001b[49m\n",
      "Cell \u001b[0;32mIn[27], line 36\u001b[0m, in \u001b[0;36mCustomDataset._load_torchf\u001b[0;34m(self, pathdir, i)\u001b[0m\n\u001b[1;32m     35\u001b[0m \u001b[38;5;28;01mdef\u001b[39;00m \u001b[38;5;21m_load_torchf\u001b[39m(\u001b[38;5;28mself\u001b[39m, pathdir, i):\n\u001b[0;32m---> 36\u001b[0m     a \u001b[38;5;241m=\u001b[39m \u001b[38;5;28;43mself\u001b[39;49m\u001b[38;5;241;43m.\u001b[39;49m\u001b[43m_load_np\u001b[49m\u001b[43m(\u001b[49m\u001b[43mpathdir\u001b[49m\u001b[43m,\u001b[49m\u001b[43m \u001b[49m\u001b[43mi\u001b[49m\u001b[43m)\u001b[49m\n\u001b[1;32m     37\u001b[0m     \u001b[38;5;28;01mreturn\u001b[39;00m torch\u001b[38;5;241m.\u001b[39mtensor(a, dtype\u001b[38;5;241m=\u001b[39mtorch\u001b[38;5;241m.\u001b[39mfloat32)\u001b[38;5;241m.\u001b[39mto(\u001b[38;5;28mself\u001b[39m\u001b[38;5;241m.\u001b[39mdevice)\n",
      "Cell \u001b[0;32mIn[27], line 33\u001b[0m, in \u001b[0;36mCustomDataset._load_np\u001b[0;34m(self, pathdir, i)\u001b[0m\n\u001b[1;32m     32\u001b[0m \u001b[38;5;28;01mdef\u001b[39;00m \u001b[38;5;21m_load_np\u001b[39m(\u001b[38;5;28mself\u001b[39m, pathdir, i):\n\u001b[0;32m---> 33\u001b[0m     \u001b[38;5;28;01mreturn\u001b[39;00m \u001b[43mnp\u001b[49m\u001b[38;5;241;43m.\u001b[39;49m\u001b[43mload\u001b[49m\u001b[43m(\u001b[49m\u001b[38;5;124;43mf\u001b[39;49m\u001b[38;5;124;43m\"\u001b[39;49m\u001b[38;5;132;43;01m{\u001b[39;49;00m\u001b[43mpathdir\u001b[49m\u001b[38;5;132;43;01m}\u001b[39;49;00m\u001b[38;5;124;43m/\u001b[39;49m\u001b[38;5;132;43;01m{\u001b[39;49;00m\u001b[38;5;28;43mstr\u001b[39;49m\u001b[43m(\u001b[49m\u001b[43mi\u001b[49m\u001b[43m)\u001b[49m\u001b[38;5;241;43m.\u001b[39;49m\u001b[43mzfill\u001b[49m\u001b[43m(\u001b[49m\u001b[38;5;241;43m10\u001b[39;49m\u001b[43m)\u001b[49m\u001b[38;5;132;43;01m}\u001b[39;49;00m\u001b[38;5;124;43m.npy\u001b[39;49m\u001b[38;5;124;43m\"\u001b[39;49m\u001b[43m)\u001b[49m\n",
      "File \u001b[0;32m~/Library/Python/3.9/lib/python/site-packages/numpy/lib/npyio.py:427\u001b[0m, in \u001b[0;36mload\u001b[0;34m(file, mmap_mode, allow_pickle, fix_imports, encoding, max_header_size)\u001b[0m\n\u001b[1;32m    425\u001b[0m     own_fid \u001b[38;5;241m=\u001b[39m \u001b[38;5;28;01mFalse\u001b[39;00m\n\u001b[1;32m    426\u001b[0m \u001b[38;5;28;01melse\u001b[39;00m:\n\u001b[0;32m--> 427\u001b[0m     fid \u001b[38;5;241m=\u001b[39m stack\u001b[38;5;241m.\u001b[39menter_context(\u001b[38;5;28;43mopen\u001b[39;49m\u001b[43m(\u001b[49m\u001b[43mos_fspath\u001b[49m\u001b[43m(\u001b[49m\u001b[43mfile\u001b[49m\u001b[43m)\u001b[49m\u001b[43m,\u001b[49m\u001b[43m \u001b[49m\u001b[38;5;124;43m\"\u001b[39;49m\u001b[38;5;124;43mrb\u001b[39;49m\u001b[38;5;124;43m\"\u001b[39;49m\u001b[43m)\u001b[49m)\n\u001b[1;32m    428\u001b[0m     own_fid \u001b[38;5;241m=\u001b[39m \u001b[38;5;28;01mTrue\u001b[39;00m\n\u001b[1;32m    430\u001b[0m \u001b[38;5;66;03m# Code to distinguish from NumPy binary files and pickles.\u001b[39;00m\n",
      "\u001b[0;31mFileNotFoundError\u001b[0m: [Errno 2] No such file or directory: './miniResults/train_text/0000000000.npy'"
     ]
    }
   ],
   "source": [
    "texts, times, _, _, _ = dataset[2]"
   ]
  },
  {
   "cell_type": "code",
   "execution_count": 30,
   "metadata": {},
   "outputs": [
    {
     "data": {
      "text/plain": [
       "(torch.Size([6, 5, 10, 768]), torch.Size([6, 5, 10, 1]))"
      ]
     },
     "execution_count": 30,
     "metadata": {},
     "output_type": "execute_result"
    }
   ],
   "source": [
    "texts.shape, times.shape"
   ]
  },
  {
   "cell_type": "code",
   "execution_count": 51,
   "metadata": {},
   "outputs": [],
   "source": [
    "import os\n",
    "\n",
    "def listdir_sorted(path):\n",
    "    if isinstance(path, list):\n",
    "        path = os.path.join(*path)\n",
    "    \n",
    "    dirs = os.listdir(path)\n",
    "    return sorted(dirs)\n",
    "\n",
    "\n",
    "train_dir = \"Training\"\n",
    "\n",
    "stocks = os.listdir(train_dir)\n",
    "# stocks = ['AAPL', 'GOOG', 'MSFT']\n",
    "stocks = ['AAPL']\n",
    "\n",
    "for stock in stocks:\n",
    "    texts = listdir_sorted([train_dir, stock, 'text'])\n",
    "    times = listdir_sorted([train_dir, stock, 'time'])"
   ]
  },
  {
   "cell_type": "code",
   "execution_count": 52,
   "metadata": {},
   "outputs": [
    {
     "data": {
      "text/plain": [
       "(['2014-01-01_embeddings.npy',\n",
       "  '2014-01-02_embeddings.npy',\n",
       "  '2014-01-03_embeddings.npy',\n",
       "  '2014-01-04_embeddings.npy',\n",
       "  '2014-01-05_embeddings.npy',\n",
       "  '2014-01-06_embeddings.npy',\n",
       "  '2014-01-07_embeddings.npy',\n",
       "  '2014-01-08_embeddings.npy',\n",
       "  '2014-01-09_embeddings.npy',\n",
       "  '2014-01-10_embeddings.npy',\n",
       "  '2014-01-11_embeddings.npy',\n",
       "  '2014-01-12_embeddings.npy',\n",
       "  '2014-01-13_embeddings.npy',\n",
       "  '2014-01-14_embeddings.npy',\n",
       "  '2014-01-15_embeddings.npy'],\n",
       " ['2014-01-01_its.npy',\n",
       "  '2014-01-02_its.npy',\n",
       "  '2014-01-03_its.npy',\n",
       "  '2014-01-04_its.npy',\n",
       "  '2014-01-05_its.npy',\n",
       "  '2014-01-06_its.npy',\n",
       "  '2014-01-07_its.npy',\n",
       "  '2014-01-08_its.npy',\n",
       "  '2014-01-09_its.npy',\n",
       "  '2014-01-10_its.npy',\n",
       "  '2014-01-11_its.npy',\n",
       "  '2014-01-12_its.npy',\n",
       "  '2014-01-13_its.npy',\n",
       "  '2014-01-14_its.npy',\n",
       "  '2014-01-15_its.npy'])"
      ]
     },
     "execution_count": 52,
     "metadata": {},
     "output_type": "execute_result"
    }
   ],
   "source": [
    "texts, times"
   ]
  },
  {
   "cell_type": "code",
   "execution_count": 102,
   "metadata": {},
   "outputs": [],
   "source": [
    "from torch.utils.data import Dataset, DataLoader\n",
    "\n",
    "# folder hierachy:\n",
    "# base_dir\n",
    "#   data_split\n",
    "#       data_type\n",
    " \n",
    "\n",
    "class StockData(Dataset):\n",
    "    def __init__(self, base_dir, data_split, stock, loopback_window=3, mask_threshold=0.5, device='cpu'):\n",
    "        base_dir = os.path.join(base_dir, data_split, stock)\n",
    "        self.paths = self._get_paths(base_dir)\n",
    "       \n",
    "        self.mask_threshold = mask_threshold\n",
    "        self.window = loopback_window\n",
    "        self.device = device\n",
    "        self.stock = stock\n",
    "\n",
    "\n",
    "    @staticmethod\n",
    "    def _get_paths(base_dir):\n",
    "        data_types = ['text', 'time']\n",
    "        paths = {\n",
    "            data_type: listdir_sorted([base_dir, data_type]) for data_type in data_types\n",
    "        }\n",
    "        return {\n",
    "            data_type: [os.path.join(base_dir, data_type, path) for path in value]\n",
    "            for data_type, value in paths.items()\n",
    "        }\n",
    "\n",
    "    def __len__(self):\n",
    "        return len(self.paths['text'])\n",
    "\n",
    "    def __getitem__(self, idx):\n",
    "        train_text, train_timestamps = self._get_days_lookback(idx, self.window)\n",
    "        \n",
    "        # price_batch = self._get_price(idx)\n",
    "        # gt_batch = self._get_gt(idx)        \n",
    "        # mask_batch = self._get_mask_batch(price_batch)\n",
    "\n",
    "        price_batch = gt_batch = mask_batch = None\n",
    "        \n",
    "        return (\n",
    "            train_text, train_timestamps, price_batch, gt_batch, mask_batch\n",
    "        )\n",
    "\n",
    "\n",
    "    def _load_np(self, data_type, i):\n",
    "        path = self.paths[data_type][i]\n",
    "        return np.load(path)\n",
    "    \n",
    "    def _load_torchf(self, data_type, i):\n",
    "        a = self._load_np(data_type, i)\n",
    "        return torch.tensor(a, dtype=torch.float32).to(self.device)\n",
    "    \n",
    "    def _get_mask_batch(self, price_batch):\n",
    "        price_batch = price_batch.astype(float)\n",
    "        return (price_batch > self.mask_threshold).astype(int)\n",
    "    \n",
    "    def _get_day_texts(self, day_idx):\n",
    "        return self._load_torchf('text', day_idx)\n",
    "    \n",
    "    def _get_day_timestamps(self, day_idx):\n",
    "        return self._load_torchf('time', day_idx)\n",
    "    \n",
    "    def _get_days_lookback(self, day_idx, window):\n",
    "        # get tweets and timestamps in the recent days\n",
    "        texts =  torch.vstack([\n",
    "            self._get_day_texts(day) for day in range(max(0, day_idx-window), day_idx+1)\n",
    "        ])\n",
    "        times =  torch.vstack([\n",
    "            self._get_day_timestamps(day) for day in range(max(0, day_idx-window), day_idx+1)\n",
    "        ])\n",
    "        return texts, times\n",
    "    \n",
    "    def _get_price(self, day_idx):\n",
    "        return self._load_np('price', day_idx)\n",
    "    def _get_gt(self, day_idx):\n",
    "        return self._load_np('gt', day_idx)\n",
    "\n",
    "    def to(self, device):\n",
    "        self.device = device"
   ]
  },
  {
   "cell_type": "code",
   "execution_count": 103,
   "metadata": {},
   "outputs": [],
   "source": [
    "ds = StockData('data', 'Training', 'AAPL')"
   ]
  },
  {
   "cell_type": "code",
   "execution_count": 106,
   "metadata": {},
   "outputs": [
    {
     "data": {
      "text/plain": [
       "(tensor([[ 0.2114,  0.0748,  0.4601,  ..., -0.2690,  0.0447,  0.1695],\n",
       "         [ 0.2114,  0.0748,  0.4601,  ..., -0.2690,  0.0447,  0.1695],\n",
       "         [ 0.0373,  0.2427,  0.6379,  ..., -0.2408,  0.1220,  0.1625],\n",
       "         ...,\n",
       "         [-0.0997,  0.2427,  0.7195,  ..., -0.3838, -0.0209,  0.2701],\n",
       "         [ 0.1067,  0.1702,  0.3629,  ..., -0.4273,  0.1017,  0.3147],\n",
       "         [-0.0028,  0.1038,  0.5053,  ..., -0.1084, -0.0363,  0.0812]]),\n",
       " tensor([[1.0000, 1.0000, 0.0078, 0.0295, 0.0103, 0.0338, 0.0024, 0.0040, 0.0053]]),\n",
       " None,\n",
       " None,\n",
       " None)"
      ]
     },
     "execution_count": 106,
     "metadata": {},
     "output_type": "execute_result"
    }
   ],
   "source": [
    "ds[0]"
   ]
  },
  {
   "cell_type": "code",
   "execution_count": 105,
   "metadata": {},
   "outputs": [
    {
     "data": {
      "text/plain": [
       "{'text': ['data/Training/AAPL/text/2014-01-01_embeddings.npy',\n",
       "  'data/Training/AAPL/text/2014-01-02_embeddings.npy',\n",
       "  'data/Training/AAPL/text/2014-01-03_embeddings.npy',\n",
       "  'data/Training/AAPL/text/2014-01-04_embeddings.npy',\n",
       "  'data/Training/AAPL/text/2014-01-05_embeddings.npy',\n",
       "  'data/Training/AAPL/text/2014-01-06_embeddings.npy',\n",
       "  'data/Training/AAPL/text/2014-01-07_embeddings.npy',\n",
       "  'data/Training/AAPL/text/2014-01-08_embeddings.npy',\n",
       "  'data/Training/AAPL/text/2014-01-09_embeddings.npy',\n",
       "  'data/Training/AAPL/text/2014-01-10_embeddings.npy',\n",
       "  'data/Training/AAPL/text/2014-01-11_embeddings.npy',\n",
       "  'data/Training/AAPL/text/2014-01-12_embeddings.npy',\n",
       "  'data/Training/AAPL/text/2014-01-13_embeddings.npy',\n",
       "  'data/Training/AAPL/text/2014-01-14_embeddings.npy',\n",
       "  'data/Training/AAPL/text/2014-01-15_embeddings.npy'],\n",
       " 'time': ['data/Training/AAPL/time/2014-01-01_its.npy',\n",
       "  'data/Training/AAPL/time/2014-01-02_its.npy',\n",
       "  'data/Training/AAPL/time/2014-01-03_its.npy',\n",
       "  'data/Training/AAPL/time/2014-01-04_its.npy',\n",
       "  'data/Training/AAPL/time/2014-01-05_its.npy',\n",
       "  'data/Training/AAPL/time/2014-01-06_its.npy',\n",
       "  'data/Training/AAPL/time/2014-01-07_its.npy',\n",
       "  'data/Training/AAPL/time/2014-01-08_its.npy',\n",
       "  'data/Training/AAPL/time/2014-01-09_its.npy',\n",
       "  'data/Training/AAPL/time/2014-01-10_its.npy',\n",
       "  'data/Training/AAPL/time/2014-01-11_its.npy',\n",
       "  'data/Training/AAPL/time/2014-01-12_its.npy',\n",
       "  'data/Training/AAPL/time/2014-01-13_its.npy',\n",
       "  'data/Training/AAPL/time/2014-01-14_its.npy',\n",
       "  'data/Training/AAPL/time/2014-01-15_its.npy']}"
      ]
     },
     "execution_count": 105,
     "metadata": {},
     "output_type": "execute_result"
    }
   ],
   "source": [
    "ds.paths"
   ]
  },
  {
   "cell_type": "code",
   "execution_count": null,
   "metadata": {},
   "outputs": [],
   "source": []
  }
 ],
 "metadata": {
  "kernelspec": {
   "display_name": "Python 3",
   "language": "python",
   "name": "python3"
  },
  "language_info": {
   "codemirror_mode": {
    "name": "ipython",
    "version": 3
   },
   "file_extension": ".py",
   "mimetype": "text/x-python",
   "name": "python",
   "nbconvert_exporter": "python",
   "pygments_lexer": "ipython3",
   "version": "3.9.6"
  }
 },
 "nbformat": 4,
 "nbformat_minor": 2
}
